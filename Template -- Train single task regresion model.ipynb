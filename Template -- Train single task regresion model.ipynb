{
 "cells": [
  {
   "cell_type": "code",
   "execution_count": null,
   "metadata": {
    "ExecuteTime": {
     "end_time": "2019-08-15T03:25:25.967213Z",
     "start_time": "2019-08-15T03:25:14.950970Z"
    }
   },
   "outputs": [],
   "source": [
    "import os\n",
    "from visar.model_training_utils import ST_model_hyperparam_screen, ST_model_training\n",
    "os.environ['CUDA_VISIBLE_DEVICES']='0'"
   ]
  },
  {
   "cell_type": "markdown",
   "metadata": {},
   "source": [
    "## model setup"
   ]
  },
  {
   "cell_type": "code",
   "execution_count": null,
   "metadata": {
    "ExecuteTime": {
     "end_time": "2019-08-14T06:43:20.260589Z",
     "start_time": "2019-08-14T06:43:20.244150Z"
    },
    "collapsed": true
   },
   "outputs": [],
   "source": [
    "# initialize parameters\n",
    "task_names = ['T107', 'T108']\n",
    "MT_dat_name = './data/MT_data_clean_June28.csv'\n",
    "FP_type = 'Circular_2048'\n",
    "\n",
    "params_dict = {\n",
    "    \"n_tasks\": [1],\n",
    "    \n",
    "    \"n_features\": [2048], ## need modification given FP types\n",
    "    \"activation\": ['relu'],\n",
    "    \"momentum\": [.9],\n",
    "    \"batch_size\": [128],\n",
    "    \"init\": ['glorot_uniform'],\n",
    "    \"learning_rate\": [0.01],\n",
    "    \"decay\": [1e-6],\n",
    "    \"nb_epoch\": [30],\n",
    "    \"dropouts\": [.2, .4],\n",
    "    \"nb_layers\": [1],\n",
    "    \"batchnorm\": [False],\n",
    "    \"layer_sizes\": [(1024, 512),(1024,128) ,(512, 128),(512,64),(128,64),(64,32), \n",
    "                    (1024,512,128), (512,128,64), (128,64,32)],\n",
    "    \"penalty\": [0.1]\n",
    "}"
   ]
  },
  {
   "cell_type": "code",
   "execution_count": null,
   "metadata": {
    "ExecuteTime": {
     "end_time": "2019-08-14T06:43:32.392665Z",
     "start_time": "2019-08-14T06:43:32.364762Z"
    }
   },
   "outputs": [],
   "source": [
    "# initialize model setup\n",
    "import random\n",
    "import time\n",
    "random_seed = random.randint(0,1000)\n",
    "local_time = time.localtime(time.time())\n",
    "log_path = './logs/'\n",
    "RUN_KEY = 'ST_%d_%d_%d_%d' % (local_time.tm_year, local_time.tm_mon, \n",
    "                              local_time.tm_mday, random_seed)\n",
    "os.system('mkdir %s%s' % (log_path, RUN_KEY))\n",
    "print(RUN_KEY)"
   ]
  },
  {
   "cell_type": "markdown",
   "metadata": {},
   "source": [
    "## hyperparameter screening"
   ]
  },
  {
   "cell_type": "code",
   "execution_count": null,
   "metadata": {
    "ExecuteTime": {
     "end_time": "2019-08-14T07:03:44.750159Z",
     "start_time": "2019-08-14T06:43:42.293366Z"
    },
    "scrolled": true
   },
   "outputs": [],
   "source": [
    "# hyperparam screening using deepchem\n",
    "log_output = ST_model_hyperparam_screen(MT_dat_name, task_names, FP_type, params_dict, \n",
    "                                        log_path = './logs/'+RUN_KEY)"
   ]
  },
  {
   "cell_type": "code",
   "execution_count": null,
   "metadata": {
    "collapsed": true
   },
   "outputs": [],
   "source": [
    "# option1: hyperparameter automatic selction\n",
    "hyper_param_df = pd.read_csv('./logs/' + RUN_KEY + '/hyperparam_log.txt', header = None, sep = '\\t')\n",
    "hyper_param_df.columns = ['rep_label', 'task_name', 'param', 'r2_score']\n",
    "hyper_param_df = hyper_param_df.sort_values(by = ['task_name', 'param', 'rep_label'], axis = 0)\n",
    "\n",
    "best_hyperparams = {}\n",
    "for task in task_names:\n",
    "    hyper_stat = hyper_param_df.loc[hyper_param_df['task_name'] == task].groupby('param').agg({'r2_score': ['mean','max','std']})\n",
    "    valid_mask = hyper_stat['r2_score']['std'] < 0.15 # filter out ones without reasonable generalization power\n",
    "    hyper_stat = hyper_stat.loc[valid_mask]\n",
    "    if hyper_stat.shape[0] >= 1:\n",
    "        select_param = hyper_stat['r2_score']['max'].sort_values(ascending=False).index[0]\n",
    "        select_r2 = hyper_stat['r2_score']['max'].sort_values(ascending=False)[0]\n",
    "        tmp_layer1 = int(select_param.split(', ')[8].split('(')[1])\n",
    "        tmp_layer2 = int(select_param.split(', ')[9].split(')')[0])\n",
    "        tmp_drop = float(select_param.split(', ')[2])\n",
    "        best_hyperparams[task] = [(tmp_layer1, tmp_layer2, 1), tmp_drop]\n",
    "        print(task + ': ' + str(hyper_stat.shape[0]) + ', ' + str(select_r2))\n",
    "    else:\n",
    "        print(task_name + ' with training variance too high.')\n",
    "        continue"
   ]
  },
  {
   "cell_type": "code",
   "execution_count": null,
   "metadata": {
    "ExecuteTime": {
     "end_time": "2019-08-14T07:04:58.795791Z",
     "start_time": "2019-08-14T07:04:58.789705Z"
    },
    "collapsed": true
   },
   "outputs": [],
   "source": [
    "# option2: manually pick the training parameters, referring to hyperparam_log saved in RUN_KEY directory\n",
    "best_hyperparams = {'T107': [(512,64,1), 0.4],\n",
    "                    'T108': [(512,128,1), 0.2]\n",
    "                   }"
   ]
  },
  {
   "cell_type": "markdown",
   "metadata": {},
   "source": [
    "## model training"
   ]
  },
  {
   "cell_type": "code",
   "execution_count": null,
   "metadata": {
    "ExecuteTime": {
     "end_time": "2019-08-14T07:05:21.176687Z",
     "start_time": "2019-08-14T07:05:21.172213Z"
    },
    "collapsed": true
   },
   "outputs": [],
   "source": [
    "MT_dat_name = './data/MT_data_clean_June28.csv'\n",
    "FP_type = 'Circular_2048'\n",
    "RUN_KEY = 'ST_2019_8_14_986'"
   ]
  },
  {
   "cell_type": "code",
   "execution_count": null,
   "metadata": {
    "ExecuteTime": {
     "end_time": "2019-08-14T08:37:14.113724Z",
     "start_time": "2019-08-14T07:05:30.748395Z"
    },
    "scrolled": true
   },
   "outputs": [],
   "source": [
    "# model training\n",
    "output_df = ST_model_training(MT_dat_name, FP_type, \n",
    "                              best_hyperparams, result_path = './logs/'+RUN_KEY)"
   ]
  },
  {
   "cell_type": "code",
   "execution_count": null,
   "metadata": {
    "ExecuteTime": {
     "end_time": "2019-08-15T11:20:05.092433Z",
     "start_time": "2019-08-15T11:19:54.006652Z"
    },
    "scrolled": true
   },
   "outputs": [],
   "source": [
    "from visar.VISAR_model_utils import generate_performance_plot_ST\n",
    "import seaborn as sns\n",
    "plot_df = generate_performance_plot_ST('./logs/ST_2019_8_14_986/performance_metrics.csv')"
   ]
  },
  {
   "cell_type": "code",
   "execution_count": null,
   "metadata": {
    "ExecuteTime": {
     "end_time": "2019-08-15T11:20:11.517804Z",
     "start_time": "2019-08-15T11:20:10.337105Z"
    },
    "scrolled": false
   },
   "outputs": [],
   "source": [
    "g = sns.catplot(x = 'task', y = 'value', hue = 'method', \n",
    "                col = 'tt', row = 'performance', \n",
    "                data = plot_df, kind = 'bar')"
   ]
  },
  {
   "cell_type": "markdown",
   "metadata": {},
   "source": [
    "## process trained results for VISAR analysis"
   ]
  },
  {
   "cell_type": "code",
   "execution_count": null,
   "metadata": {
    "ExecuteTime": {
     "end_time": "2019-08-15T03:25:35.743267Z",
     "start_time": "2019-08-15T03:25:35.181977Z"
    },
    "collapsed": true
   },
   "outputs": [],
   "source": [
    "from visar.VISAR_model_utils import generate_RUNKEY_dataframe_ST\n",
    "RUN_KEY = 'ST_2019_8_14_986'\n",
    "log_path = './logs/'\n",
    "prev_model = log_path + RUN_KEY + '/T107_rep2_50.hdf5'\n",
    "output_prefix = 'T107_rep2_50_'\n",
    "task_list = ['T107']\n",
    "add_features = None\n",
    "dataset_file = log_path + RUN_KEY + '/temp.csv'\n",
    "FP_type = 'Circular_2048'"
   ]
  },
  {
   "cell_type": "code",
   "execution_count": null,
   "metadata": {
    "ExecuteTime": {
     "end_time": "2019-08-15T03:27:53.548776Z",
     "start_time": "2019-08-15T03:25:53.734048Z"
    },
    "scrolled": true
   },
   "outputs": [],
   "source": [
    "generate_RUNKEY_dataframe_ST(prev_model, output_prefix, task_list, dataset_file, FP_type, add_features, \n",
    "                             n_layer = 1)"
   ]
  },
  {
   "cell_type": "markdown",
   "metadata": {},
   "source": [
    "Next:\n",
    "- copy output files (including output_compound_df, output_batch_df, output_task_df) to a data directory, and clear the VISAR_webapp static directory if neccessary;\n",
    "- start the app in prompt window by 'bokeh serve --show VISAR_webapp'"
   ]
  }
 ],
 "metadata": {
  "kernelspec": {
   "display_name": "deepchem_visar",
   "language": "python",
   "name": "deepchem_visar"
  },
  "language_info": {
   "codemirror_mode": {
    "name": "ipython",
    "version": 3
   },
   "file_extension": ".py",
   "mimetype": "text/x-python",
   "name": "python",
   "nbconvert_exporter": "python",
   "pygments_lexer": "ipython3",
   "version": "3.5.6"
  },
  "toc": {
   "base_numbering": 1,
   "nav_menu": {},
   "number_sections": true,
   "sideBar": true,
   "skip_h1_title": false,
   "title_cell": "Table of Contents",
   "title_sidebar": "Contents",
   "toc_cell": false,
   "toc_position": {},
   "toc_section_display": true,
   "toc_window_display": false
  },
  "varInspector": {
   "cols": {
    "lenName": 16,
    "lenType": 16,
    "lenVar": 40
   },
   "kernels_config": {
    "python": {
     "delete_cmd_postfix": "",
     "delete_cmd_prefix": "del ",
     "library": "var_list.py",
     "varRefreshCmd": "print(var_dic_list())"
    },
    "r": {
     "delete_cmd_postfix": ") ",
     "delete_cmd_prefix": "rm(",
     "library": "var_list.r",
     "varRefreshCmd": "cat(var_dic_list()) "
    }
   },
   "types_to_exclude": [
    "module",
    "function",
    "builtin_function_or_method",
    "instance",
    "_Feature"
   ],
   "window_display": false
  }
 },
 "nbformat": 4,
 "nbformat_minor": 2
}
