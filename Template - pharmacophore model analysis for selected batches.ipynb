{
 "cells": [
  {
   "cell_type": "code",
   "execution_count": 3,
   "metadata": {
    "ExecuteTime": {
     "end_time": "2019-08-16T07:42:56.844949Z",
     "start_time": "2019-08-16T07:42:56.839961Z"
    }
   },
   "outputs": [],
   "source": [
    "import os\n",
    "import numpy as np\n",
    "import pandas as pd"
   ]
  },
  {
   "cell_type": "markdown",
   "metadata": {},
   "source": [
    "## generate sdf file of selected batches"
   ]
  },
  {
   "cell_type": "code",
   "execution_count": 4,
   "metadata": {
    "ExecuteTime": {
     "end_time": "2019-08-16T07:44:36.548185Z",
     "start_time": "2019-08-16T07:44:36.471217Z"
    }
   },
   "outputs": [
    {
     "data": {
      "text/html": [
       "<div>\n",
       "<style scoped>\n",
       "    .dataframe tbody tr th:only-of-type {\n",
       "        vertical-align: middle;\n",
       "    }\n",
       "\n",
       "    .dataframe tbody tr th {\n",
       "        vertical-align: top;\n",
       "    }\n",
       "\n",
       "    .dataframe thead th {\n",
       "        text-align: right;\n",
       "    }\n",
       "</style>\n",
       "<table border=\"1\" class=\"dataframe\">\n",
       "  <thead>\n",
       "    <tr style=\"text-align: right;\">\n",
       "      <th></th>\n",
       "      <th>T107</th>\n",
       "      <th>chembl_id</th>\n",
       "      <th>canonical_smiles</th>\n",
       "      <th>x</th>\n",
       "      <th>y</th>\n",
       "      <th>pred_T107</th>\n",
       "      <th>label</th>\n",
       "      <th>batch_label_color</th>\n",
       "      <th>batch_label</th>\n",
       "      <th>label_color</th>\n",
       "    </tr>\n",
       "  </thead>\n",
       "  <tbody>\n",
       "    <tr>\n",
       "      <th>1800</th>\n",
       "      <td>3.753245</td>\n",
       "      <td>CHEMBL3664821</td>\n",
       "      <td>O=C(CC1CC1)N[C@@H]2CC[C@@H](CCN3CCC(CC3)c4cccc...</td>\n",
       "      <td>-39.537960</td>\n",
       "      <td>-6.644773</td>\n",
       "      <td>3.695881</td>\n",
       "      <td>0</td>\n",
       "      <td>#1f77b4</td>\n",
       "      <td>2</td>\n",
       "      <td>#393b79</td>\n",
       "    </tr>\n",
       "    <tr>\n",
       "      <th>1852</th>\n",
       "      <td>3.662531</td>\n",
       "      <td>CHEMBL3664872</td>\n",
       "      <td>O=C(N[C@@H]1CC[C@@H](CCN2CCC(CC2)c3cccc4OCOc34...</td>\n",
       "      <td>-39.001064</td>\n",
       "      <td>-1.747338</td>\n",
       "      <td>3.654126</td>\n",
       "      <td>0</td>\n",
       "      <td>#1f77b4</td>\n",
       "      <td>2</td>\n",
       "      <td>#393b79</td>\n",
       "    </tr>\n",
       "    <tr>\n",
       "      <th>2306</th>\n",
       "      <td>3.787004</td>\n",
       "      <td>CHEMBL3697951</td>\n",
       "      <td>CC(=O)N[C@@H]1CC[C@@H](CCN2CCN(CC2)c3cccc4OCOc...</td>\n",
       "      <td>-39.745975</td>\n",
       "      <td>2.005099</td>\n",
       "      <td>3.765032</td>\n",
       "      <td>0</td>\n",
       "      <td>#1f77b4</td>\n",
       "      <td>2</td>\n",
       "      <td>#393b79</td>\n",
       "    </tr>\n",
       "    <tr>\n",
       "      <th>2307</th>\n",
       "      <td>3.673449</td>\n",
       "      <td>CHEMBL3697952</td>\n",
       "      <td>COCCC(=O)N[C@@H]1CC[C@@H](CCN2CCN(CC2)c3cccc4O...</td>\n",
       "      <td>-37.736317</td>\n",
       "      <td>2.435640</td>\n",
       "      <td>3.635353</td>\n",
       "      <td>0</td>\n",
       "      <td>#1f77b4</td>\n",
       "      <td>2</td>\n",
       "      <td>#393b79</td>\n",
       "    </tr>\n",
       "    <tr>\n",
       "      <th>2311</th>\n",
       "      <td>3.780144</td>\n",
       "      <td>CHEMBL3697956</td>\n",
       "      <td>O=C(CC1CCCO1)N[C@@H]2CC[C@@H](CCN3CCN(CC3)c4cc...</td>\n",
       "      <td>-40.699070</td>\n",
       "      <td>0.664541</td>\n",
       "      <td>3.700971</td>\n",
       "      <td>0</td>\n",
       "      <td>#1f77b4</td>\n",
       "      <td>2</td>\n",
       "      <td>#393b79</td>\n",
       "    </tr>\n",
       "  </tbody>\n",
       "</table>\n",
       "</div>"
      ],
      "text/plain": [
       "          T107      chembl_id  \\\n",
       "1800  3.753245  CHEMBL3664821   \n",
       "1852  3.662531  CHEMBL3664872   \n",
       "2306  3.787004  CHEMBL3697951   \n",
       "2307  3.673449  CHEMBL3697952   \n",
       "2311  3.780144  CHEMBL3697956   \n",
       "\n",
       "                                       canonical_smiles          x         y  \\\n",
       "1800  O=C(CC1CC1)N[C@@H]2CC[C@@H](CCN3CCC(CC3)c4cccc... -39.537960 -6.644773   \n",
       "1852  O=C(N[C@@H]1CC[C@@H](CCN2CCC(CC2)c3cccc4OCOc34... -39.001064 -1.747338   \n",
       "2306  CC(=O)N[C@@H]1CC[C@@H](CCN2CCN(CC2)c3cccc4OCOc... -39.745975  2.005099   \n",
       "2307  COCCC(=O)N[C@@H]1CC[C@@H](CCN2CCN(CC2)c3cccc4O... -37.736317  2.435640   \n",
       "2311  O=C(CC1CCCO1)N[C@@H]2CC[C@@H](CCN3CCN(CC3)c4cc... -40.699070  0.664541   \n",
       "\n",
       "      pred_T107  label batch_label_color  batch_label label_color  \n",
       "1800   3.695881      0           #1f77b4            2     #393b79  \n",
       "1852   3.654126      0           #1f77b4            2     #393b79  \n",
       "2306   3.765032      0           #1f77b4            2     #393b79  \n",
       "2307   3.635353      0           #1f77b4            2     #393b79  \n",
       "2311   3.700971      0           #1f77b4            2     #393b79  "
      ]
     },
     "execution_count": 4,
     "metadata": {},
     "output_type": "execute_result"
    }
   ],
   "source": [
    "compound_df = pd.read_csv('T107_rep2_50_compound_df.csv')\n",
    "\n",
    "selected_batch = 0\n",
    "select_df = compound_df.loc[compound_df['label'] == selected_batch]\n",
    "select_df.head()"
   ]
  },
  {
   "cell_type": "code",
   "execution_count": 6,
   "metadata": {
    "ExecuteTime": {
     "end_time": "2019-08-16T07:49:27.123655Z",
     "start_time": "2019-08-16T07:49:26.986351Z"
    },
    "collapsed": true
   },
   "outputs": [],
   "source": [
    "from rdkit import Chem\n",
    "from rdkit.Chem import PandasTools\n",
    "\n",
    "def df2sdf(df, output_sdf_name, \n",
    "           smiles_field = 'canonical_smiles', id_field = 'chembl_id', \n",
    "           selected_batch = None):\n",
    "    '''\n",
    "    pack pd.DataFrame to sdf_file\n",
    "    '''\n",
    "    if not selected_batch is None:\n",
    "        df = df.loc[df['label'] == selected_batch]\n",
    "    PandasTools.AddMoleculeColumnToFrame(df,smiles_field,'ROMol')\n",
    "    PandasTools.WriteSDF(df, output_sdf_name, idName=id_field, properties=df.columns)\n",
    "\n",
    "    return"
   ]
  },
  {
   "cell_type": "code",
   "execution_count": 8,
   "metadata": {
    "ExecuteTime": {
     "end_time": "2019-08-16T07:49:38.014083Z",
     "start_time": "2019-08-16T07:49:37.892054Z"
    }
   },
   "outputs": [],
   "source": [
    "df2sdf(select_df, 'T107_rep2_50_batch0.sdf', selected_batch = 0)"
   ]
  },
  {
   "cell_type": "markdown",
   "metadata": {},
   "source": [
    "## Building pharmacophore models using [Align-it](http://silicos-it.be.s3-website-eu-west-1.amazonaws.com/software/align-it/1.0.4/align-it.html)"
   ]
  },
  {
   "cell_type": "markdown",
   "metadata": {
    "collapsed": true
   },
   "source": [
    "### prepare 3D coordinates for ligands"
   ]
  },
  {
   "cell_type": "code",
   "execution_count": null,
   "metadata": {
    "collapsed": true
   },
   "outputs": [],
   "source": [
    "from rdkit import Chem\n",
    "from rdkit.Chem import AllChem\n",
    "from rdkit.Chem import Draw\n",
    "raw_sdf_file = 'T107_rep2_50_batch0.sdf'\n",
    "ms = [x for x in Chem.SDMolSupplier(raw_sdf_file)]"
   ]
  },
  {
   "cell_type": "code",
   "execution_count": null,
   "metadata": {
    "collapsed": true
   },
   "outputs": [],
   "source": [
    "n_conf = 5\n",
    "w = Chem.SDWriter('T107_rep2_50_batch0_rdkit_conf.sdf')\n",
    "for i in range(n_conf):\n",
    "    ms_addH = [Chem.AddHs(m) for m in ms]\n",
    "    for m in ms_addH:\n",
    "        AllChem.EmbedMolecule(m)\n",
    "        AllChem.MMFFOptimizeMoleculeConfs(m)\n",
    "        w.write(m)"
   ]
  },
  {
   "cell_type": "markdown",
   "metadata": {},
   "source": [
    "### from prepared 3D ligands to representative pharmacophores"
   ]
  },
  {
   "cell_type": "code",
   "execution_count": null,
   "metadata": {
    "collapsed": true
   },
   "outputs": [],
   "source": [
    "from align_it_utils import proceed_pharmacophore\n",
    "import os"
   ]
  },
  {
   "cell_type": "code",
   "execution_count": null,
   "metadata": {
    "collapsed": true
   },
   "outputs": [],
   "source": [
    "home_dir = './data/'\n",
    "result_dir = home_dir + 'Label13_rdkit_phars/'\n",
    "sdf_file = '/Users/dingqy14/Desktop/writing/P2_data_Dec27/code_utils_v1/data/Label13_rdkit_conf.sdf' # absolute path is prefered!\n",
    "output_name = 'Cluster13_'"
   ]
  },
  {
   "cell_type": "code",
   "execution_count": null,
   "metadata": {
    "collapsed": true
   },
   "outputs": [],
   "source": [
    "proceed_pharmacophore(home_dir, sdf_file, result_dir, output_name)"
   ]
  },
  {
   "cell_type": "markdown",
   "metadata": {},
   "source": [
    "You can also building pharmacophore models using [TeachOpenCADD platform](https://github.com/volkamerlab/TeachOpenCADD), or analyze the selected ligands with other informatic tools, eg. [DataWarrior](http://www.openmolecules.org/datawarrior/), [Schrodinger](https://www.schrodinger.com/drug-discovery)"
   ]
  }
 ],
 "metadata": {
  "kernelspec": {
   "display_name": "Python 3",
   "language": "python",
   "name": "python3"
  },
  "language_info": {
   "codemirror_mode": {
    "name": "ipython",
    "version": 3
   },
   "file_extension": ".py",
   "mimetype": "text/x-python",
   "name": "python",
   "nbconvert_exporter": "python",
   "pygments_lexer": "ipython3",
   "version": "3.6.1"
  },
  "toc": {
   "base_numbering": 1,
   "nav_menu": {},
   "number_sections": true,
   "sideBar": true,
   "skip_h1_title": false,
   "title_cell": "Table of Contents",
   "title_sidebar": "Contents",
   "toc_cell": false,
   "toc_position": {},
   "toc_section_display": true,
   "toc_window_display": false
  },
  "varInspector": {
   "cols": {
    "lenName": 16,
    "lenType": 16,
    "lenVar": 40
   },
   "kernels_config": {
    "python": {
     "delete_cmd_postfix": "",
     "delete_cmd_prefix": "del ",
     "library": "var_list.py",
     "varRefreshCmd": "print(var_dic_list())"
    },
    "r": {
     "delete_cmd_postfix": ") ",
     "delete_cmd_prefix": "rm(",
     "library": "var_list.r",
     "varRefreshCmd": "cat(var_dic_list()) "
    }
   },
   "types_to_exclude": [
    "module",
    "function",
    "builtin_function_or_method",
    "instance",
    "_Feature"
   ],
   "window_display": false
  }
 },
 "nbformat": 4,
 "nbformat_minor": 2
}
