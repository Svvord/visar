{
 "cells": [
  {
   "cell_type": "code",
   "execution_count": null,
   "metadata": {},
   "outputs": [],
   "source": [
    "import os\n",
    "from visar.model_training_utils import (\n",
    "    ST_model_hyperparam_screen, \n",
    "    ST_model_training,\n",
    "    RobustMT_model_training,\n",
    "    RobustMT_model_hyperparam_screen\n",
    ")\n",
    "from visar.VISAR_model_utils import (\n",
    "    generate_RUNKEY_dataframe_baseline,\n",
    "    generate_RUNKEY_dataframe_RobustMT,\n",
    "    generate_RUNKEY_dataframe_ST,\n",
    "    generate_performance_plot_ST,\n",
    "    generate_performance_plot_RobustMT\n",
    ")\n",
    "\n",
    "import pandas as pd\n",
    "import seaborn as sns\n",
    "from collections import OrderedDict\n",
    "os.environ['CUDA_VISIBLE_DEVICES']='1'"
   ]
  },
  {
   "cell_type": "markdown",
   "metadata": {},
   "source": [
    "## model training"
   ]
  },
  {
   "cell_type": "code",
   "execution_count": null,
   "metadata": {},
   "outputs": [],
   "source": [
    "# set parameters\n",
    "params_dict = OrderedDict(\n",
    "    n_tasks = [len(task_names)],\n",
    "    n_features = [2048], ## need modification given FP types\n",
    "    activation = ['relu'],\n",
    "    momentum = [.9],\n",
    "    batch_size = [128],\n",
    "    init = ['glorot_uniform'],\n",
    "    learning_rate = [0.0001],\n",
    "    decay = [1e-6],\n",
    "    nb_epoch = [30],\n",
    "    dropouts = [.2, .4],\n",
    "    nb_layers = [1],\n",
    "    batchnorm = [False],\n",
    "    layer_sizes = [(1024, 512),(1024, 128),(512, 128),(512,64)],\n",
    "    bypass_dropouts = [0.5],\n",
    "    bypass_layer_sizes = [[128], [64]]\n",
    ")"
   ]
  },
  {
   "cell_type": "code",
   "execution_count": null,
   "metadata": {},
   "outputs": [],
   "source": [
    "# hyperparameter screening\n",
    "log_output = RobustMT_model_hyperparam_screen(MT_dat_name, task_names, FP_type, params_dict, log_path, smiles_field, id_field)"
   ]
  },
  {
   "cell_type": "code",
   "execution_count": null,
   "metadata": {},
   "outputs": [],
   "source": [
    "# option1: hyperparameter automatic selction\n",
    "hyper_param_df = pd.read_csv(log_path + '/hyperparam_log.txt', header = None, sep = '\\t')\n",
    "hyper_param_df.columns = ['rep_label', 'param', 'r2_score']\n",
    "hyper_param_df = hyper_param_df.sort_values(by = ['param', 'rep_label'], axis = 0)\n",
    "\n",
    "best_hyperparams = {}\n",
    "hyper_stat = hyper_param_df.groupby('param').agg({'r2_score': ['mean','max','std']})\n",
    "valid_mask = hyper_stat['r2_score']['std'] < 0.15 # filter out ones without reasonable generalization power\n",
    "hyper_stat = hyper_stat.loc[valid_mask]\n",
    "if hyper_stat.shape[0] >= 1:\n",
    "    select_param = hyper_stat['r2_score']['max'].sort_values(ascending=False).index[0]\n",
    "    select_r2 = hyper_stat['r2_score']['max'].sort_values(ascending=False)[0]\n",
    "        \n",
    "    select_param = select_param.replace('(', '')\n",
    "    select_param = select_param.replace(')', '')\n",
    "        \n",
    "    tmp_layer1 = int(select_param.split(', ')[12])\n",
    "    tmp_layer2 = int(select_param.split(', ')[13])\n",
    "    bypass_layer = int(select_param.split(', ')[15].strip('[').strip(']'))\n",
    "    tmp_drop = float(select_param.split(', ')[9])\n",
    "        \n",
    "    best_hyperparams = [(tmp_layer1, tmp_layer2), [bypass_layer], tmp_drop]\n",
    "    print(str(hyper_stat.shape[0]) + ', ' + str(select_r2))\n",
    "else:\n",
    "    print(task_name + ' with training variance too high.')\n",
    "\n",
    "best_hyperparams"
   ]
  },
  {
   "cell_type": "code",
   "execution_count": null,
   "metadata": {},
   "outputs": [],
   "source": [
    "# train\n",
    "layer_sizes = best_hyperparams[0]\n",
    "bypass_layer_sizes = best_hyperparams[1]\n",
    "dropout = best_hyperparams[2]\n",
    "lr = 0.0001\n",
    "bypass_dropouts = 0.5\n",
    "n_features = 2048\n",
    "\n",
    "RobustMT_model_training(MT_dat_name, FP_type, task_names, log_path, \n",
    "                        n_features, layer_sizes, bypass_layer_sizes, bypass_dropouts, dropout, lr,\n",
    "                        N_test = 500.0, add_features = None, n_epoch = 250, epoch_num = 10,\n",
    "                        id_field = id_field, smiles_field = smiles_field)"
   ]
  },
  {
   "cell_type": "code",
   "execution_count": null,
   "metadata": {},
   "outputs": [],
   "source": [
    "# evaluation\n",
    "plot_df = generate_performance_plot_RobustMT('logs/Demo_GPCRs/model_train_log.csv', 'logs/Demo_GPCRs/model_test_log.csv')\n",
    "import matplotlib.pyplot as plt\n",
    "g = sns.FacetGrid(plot_df, col = 'tt', hue = 'tasks')\n",
    "g = (g.map(plt.plot, 'step', 'R2', marker = '.')).add_legend()"
   ]
  },
  {
   "cell_type": "markdown",
   "metadata": {},
   "source": [
    "## process trained models and generate files for visualization"
   ]
  },
  {
   "cell_type": "code",
   "execution_count": null,
   "metadata": {},
   "outputs": [],
   "source": [
    "# multitask models\n",
    "custom_file = './data/custom_file.txt'\n",
    "custom_id_field = 'id'\n",
    "custom_task_field = 'dummy_value'\n",
    "custom_smiles_field = 'SMILES'\n",
    "sep_custom_file = '\\t'\n",
    "output_prefix = './logs/Demo_GPCRs/RobustMT2_'\n",
    "\n",
    "prev_model = './logs/Demo_GPCRs/model-2250'\n",
    "layer_sizes = [1024, 128]\n",
    "bypass_layer_sizes = [128]\n",
    "dropout = 0.2\n",
    "n_layer = 1\n",
    "n_bypass = 2\n",
    "model_flag = 'MT'\n",
    "\n",
    "generate_RUNKEY_dataframe_RobustMT(prev_model, output_prefix, task_names, dataset_file, FP_type, add_features, \n",
    "                              n_features, layer_sizes, bypass_layer_sizes, model_flag, n_bypass,\n",
    "                              MT_dat_name, model_test_log = './logs/Demo_GPCRs/model_test_log.csv',\n",
    "                              smiles_field = smiles_field, id_field = id_field,\n",
    "                              bypass_dropouts = [.5], dropout = dropout, learning_rate = 0.001, n_layer = n_layer,\n",
    "                              custom_file = custom_file, custom_id_field = custom_id_field, \n",
    "                              custom_task_field = custom_task_field, custom_smiles_field = custom_smiles_field,\n",
    "                              sep_custom_file = sep_custom_file, K = 5, valid_cutoff = None)"
   ]
  }
 ],
 "metadata": {
  "kernelspec": {
   "display_name": "deepchem_visar",
   "language": "python",
   "name": "deepchem_visar"
  },
  "language_info": {
   "codemirror_mode": {
    "name": "ipython",
    "version": 3
   },
   "file_extension": ".py",
   "mimetype": "text/x-python",
   "name": "python",
   "nbconvert_exporter": "python",
   "pygments_lexer": "ipython3",
   "version": "3.6.7"
  }
 },
 "nbformat": 4,
 "nbformat_minor": 2
}
