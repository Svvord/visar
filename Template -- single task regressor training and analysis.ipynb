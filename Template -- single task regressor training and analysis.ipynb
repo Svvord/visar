{
 "cells": [
  {
   "cell_type": "code",
   "execution_count": null,
   "metadata": {},
   "outputs": [],
   "source": [
    "import os\n",
    "from visar.model_training_utils import (\n",
    "    ST_model_hyperparam_screen, \n",
    "    ST_model_training,\n",
    "    RobustMT_model_training,\n",
    "    RobustMT_model_hyperparam_screen\n",
    ")\n",
    "from visar.VISAR_model_utils import (\n",
    "    generate_RUNKEY_dataframe_baseline,\n",
    "    generate_RUNKEY_dataframe_RobustMT,\n",
    "    generate_RUNKEY_dataframe_ST,\n",
    "    generate_performance_plot_ST,\n",
    "    generate_performance_plot_RobustMT\n",
    ")\n",
    "\n",
    "import pandas as pd\n",
    "import seaborn as sns\n",
    "from collections import OrderedDict\n",
    "os.environ['CUDA_VISIBLE_DEVICES']='1'"
   ]
  },
  {
   "cell_type": "markdown",
   "metadata": {},
   "source": [
    "## model training"
   ]
  },
  {
   "cell_type": "code",
   "execution_count": null,
   "metadata": {},
   "outputs": [],
   "source": [
    "# initialize parameters\n",
    "protein_targets = ['5HT-1b', '5HT-2b', '5HT-2c']\n",
    "task_names = ['T106', 'T227', 'T108']  # refer to ./data/MT_assay_table_Feb28.csv\n",
    "MT_dat_name = './data/MT_data_clean_June28.csv'\n",
    "FP_type = 'Circular_2048'\n",
    "log_path = './logs/Demo_GPCRs'\n",
    "add_features = None\n",
    "smiles_field = 'salt_removed_smi'\n",
    "id_field = 'molregno'\n",
    "dataset_file = './logs/Demo_GPCRs/tmp.csv'\n",
    "n_features = 2048"
   ]
  },
  {
   "cell_type": "code",
   "execution_count": null,
   "metadata": {},
   "outputs": [],
   "source": [
    "# set parameters\n",
    "params_dict = OrderedDict(\n",
    "    n_tasks = [1],\n",
    "    \n",
    "    n_features = [2048], ## need modification given FP types\n",
    "    activation = ['relu'],\n",
    "    momentum = [.9],\n",
    "    batch_size = [128],\n",
    "    init = ['glorot_uniform'],\n",
    "    learning_rate = [0.01],\n",
    "    decay = [1e-6],\n",
    "    nb_epoch = [30],\n",
    "    dropouts = [.2, .4],\n",
    "    nb_layers = [1],\n",
    "    batchnorm = [False],\n",
    "    layer_sizes = [(1024, 512),(1024,128) ,(512, 128),(512,64),(128,64),(64,32), \n",
    "                   (512,128,64), (128,64,32)],\n",
    "    penalty = [0.1]\n",
    ")"
   ]
  },
  {
   "cell_type": "code",
   "execution_count": null,
   "metadata": {},
   "outputs": [],
   "source": [
    "# hyperparam screening using deepchem\n",
    "log_output = ST_model_hyperparam_screen(MT_dat_name, task_names, FP_type, params_dict, \n",
    "                                        log_path = log_path)"
   ]
  },
  {
   "cell_type": "code",
   "execution_count": null,
   "metadata": {},
   "outputs": [],
   "source": [
    "# option1: hyperparameter automatic selction\n",
    "hyper_param_df = pd.read_csv(log_path + '/hyperparam_log.txt', header = None, sep = '\\t')\n",
    "hyper_param_df.columns = ['rep_label', 'task_name', 'param', 'r2_score']\n",
    "hyper_param_df = hyper_param_df.sort_values(by = ['task_name', 'param', 'rep_label'], axis = 0)\n",
    "\n",
    "best_hyperparams = {}\n",
    "for task in task_names:\n",
    "    hyper_stat = hyper_param_df.loc[hyper_param_df['task_name'] == task].groupby('param').agg({'r2_score': ['mean','max','std']})\n",
    "    valid_mask = hyper_stat['r2_score']['std'] < 0.15 # filter out ones without reasonable generalization power\n",
    "    hyper_stat = hyper_stat.loc[valid_mask]\n",
    "    if hyper_stat.shape[0] >= 1:\n",
    "        select_param = hyper_stat['r2_score']['max'].sort_values(ascending=False).index[0]\n",
    "        select_r2 = hyper_stat['r2_score']['max'].sort_values(ascending=False)[0]\n",
    "        \n",
    "        select_param = select_param.replace('(', '')\n",
    "        select_param = select_param.replace(')', '')\n",
    "        \n",
    "        tmp_layer1 = int(select_param.split(', ')[12])\n",
    "        tmp_layer2 = int(select_param.split(', ')[13])\n",
    "        tmp_drop = float(select_param.split(', ')[9])\n",
    "        \n",
    "        best_hyperparams[task] = [(tmp_layer1, tmp_layer2, 1), tmp_drop]\n",
    "        print(task + ': ' + str(hyper_stat.shape[0]) + ', ' + str(select_r2))\n",
    "    else:\n",
    "        print(task_name + ' with training variance too high.')\n",
    "        continue"
   ]
  },
  {
   "cell_type": "code",
   "execution_count": null,
   "metadata": {},
   "outputs": [],
   "source": [
    "# model training\n",
    "output_df = ST_model_training(MT_dat_name, FP_type, \n",
    "                              best_hyperparams, result_path = log_path)"
   ]
  },
  {
   "cell_type": "code",
   "execution_count": null,
   "metadata": {},
   "outputs": [],
   "source": [
    "# evaluation\n",
    "plot_df = generate_performance_plot_ST('logs/Demo_GPCRs/performance_metrics.csv')\n",
    "g = sns.catplot(x = 'task', y = 'value', hue = 'method', \n",
    "                col = 'tt', row = 'performance', \n",
    "                data = plot_df, kind = 'bar')"
   ]
  },
  {
   "cell_type": "markdown",
   "metadata": {},
   "source": [
    "## process trained models and generate files for visualization"
   ]
  },
  {
   "cell_type": "code",
   "execution_count": null,
   "metadata": {},
   "outputs": [],
   "source": [
    "# baseline models -- RidgeCV\n",
    "custom_file = './data/custom_file.txt'\n",
    "custom_id_field = 'id'\n",
    "custom_task_field = 'dummy_value'\n",
    "custom_smiles_field = 'SMILES'\n",
    "sep_custom_file = '\\t'\n",
    "model_flag = 'MT'\n",
    "\n",
    "for i in range(len(task_names)):\n",
    "    task = task_names[i]\n",
    "    output_prefix = './logs/Demo_GPCRs/RidgeCV_' + task + '_new_'\n",
    "    \n",
    "    generate_RUNKEY_dataframe_baseline(output_prefix, task, dataset_file, FP_type, \n",
    "                                   add_features, mode = 'RidgeCV', \n",
    "                                   MT_dat_name = MT_dat_name, \n",
    "                                   smiles_field = smiles_field, id_field = id_field,\n",
    "                                   custom_file = custom_file, custom_id_field = custom_id_field, \n",
    "                                   custom_task_field = custom_task_field, \n",
    "                                   custom_smiles_field = custom_smiles_field,\n",
    "                                   sep_custom_file = sep_custom_file)"
   ]
  },
  {
   "cell_type": "code",
   "execution_count": null,
   "metadata": {},
   "outputs": [],
   "source": [
    "# baseline models -- SVR\n",
    "custom_file = './data/custom_file.txt'\n",
    "custom_id_field = 'id'\n",
    "custom_task_field = 'dummy_value'\n",
    "custom_smiles_field = 'SMILES'\n",
    "sep_custom_file = '\\t'\n",
    "model_flag = 'MT'\n",
    "\n",
    "for i in range(len(task_names)):\n",
    "    task = task_names[i]\n",
    "    output_prefix = './logs/Demo_GPCRs/SVR_' + task + '_new_'\n",
    "    \n",
    "    generate_RUNKEY_dataframe_baseline(output_prefix, task, dataset_file, FP_type, \n",
    "                                   add_features, mode = 'SVR', \n",
    "                                   MT_dat_name = MT_dat_name, \n",
    "                                   smiles_field = smiles_field, id_field = id_field,\n",
    "                                   custom_file = custom_file, custom_id_field = custom_id_field, \n",
    "                                   custom_task_field = custom_task_field, \n",
    "                                   custom_smiles_field = custom_smiles_field,\n",
    "                                   sep_custom_file = sep_custom_file)"
   ]
  },
  {
   "cell_type": "code",
   "execution_count": null,
   "metadata": {},
   "outputs": [],
   "source": [
    "# single task models\n",
    "custom_file = './data/custom_file.txt'\n",
    "custom_id_field = 'id'\n",
    "custom_task_field = 'dummy_value'\n",
    "custom_smiles_field = 'SMILES'\n",
    "sep_custom_file = '\\t'\n",
    "model_flag = 'MT'\n",
    "\n",
    "for i in range(len(task_names)):\n",
    "    task = task_names[i]\n",
    "    output_prefix = './logs/Demo_GPCRs/ST_' + task + '_new_'\n",
    "    prev_model = './logs/Demo_GPCRs/' + task + '_rep0_50.hdf5'\n",
    "    \n",
    "    generate_RUNKEY_dataframe_ST(prev_model, output_prefix, [task], dataset_file, FP_type, \n",
    "                             add_features, mode = 'ST',\n",
    "                             MT_dat_name = MT_dat_name, n_layer = 1,\n",
    "                             smiles_field = smiles_field, id_field = id_field,\n",
    "                             custom_file = custom_file, custom_id_field = custom_id_field, \n",
    "                             custom_task_field = custom_task_field, \n",
    "                             custom_smiles_field = custom_smiles_field,\n",
    "                             sep_custom_file = sep_custom_file)"
   ]
  },
  {
   "cell_type": "code",
   "execution_count": null,
   "metadata": {},
   "outputs": [],
   "source": []
  }
 ],
 "metadata": {
  "kernelspec": {
   "display_name": "deepchem_visar",
   "language": "python",
   "name": "deepchem_visar"
  },
  "language_info": {
   "codemirror_mode": {
    "name": "ipython",
    "version": 3
   },
   "file_extension": ".py",
   "mimetype": "text/x-python",
   "name": "python",
   "nbconvert_exporter": "python",
   "pygments_lexer": "ipython3",
   "version": "3.6.7"
  }
 },
 "nbformat": 4,
 "nbformat_minor": 2
}
