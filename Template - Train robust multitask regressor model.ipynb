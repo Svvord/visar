{
 "cells": [
  {
   "cell_type": "code",
   "execution_count": 1,
   "metadata": {
    "ExecuteTime": {
     "end_time": "2019-08-14T09:55:31.093508Z",
     "start_time": "2019-08-14T09:55:21.560380Z"
    }
   },
   "outputs": [
    {
     "name": "stderr",
     "output_type": "stream",
     "text": [
      "/root/anaconda3/envs/deepchem/lib/python3.5/site-packages/h5py/__init__.py:36: FutureWarning: Conversion of the second argument of issubdtype from `float` to `np.floating` is deprecated. In future, it will be treated as `np.float64 == np.dtype(float).type`.\n",
      "  from ._conv import register_converters as _register_converters\n"
     ]
    }
   ],
   "source": [
    "import os\n",
    "import deepchem as dc\n",
    "import numpy as np\n",
    "import pandas as pd\n",
    "import tensorflow as tf\n",
    "os.environ['CUDA_VISIBLE_DEVICES']='1'"
   ]
  },
  {
   "cell_type": "markdown",
   "metadata": {},
   "source": [
    "## model setup"
   ]
  },
  {
   "cell_type": "code",
   "execution_count": 2,
   "metadata": {
    "ExecuteTime": {
     "end_time": "2019-08-14T09:44:07.392110Z",
     "start_time": "2019-08-14T09:44:07.364166Z"
    },
    "collapsed": true
   },
   "outputs": [],
   "source": [
    "from model_training_utils_v2 import prepare_dataset\n",
    "import os\n",
    "import pandas as pd\n",
    "\n",
    "RUN_KEY = 'Serotonin_Aug14'\n",
    "\n",
    "log_path = './logs/' + RUN_KEY\n",
    "os.system('mkdir %s' % log_path)\n",
    "dataset_file = '%s/raw_data.csv' % (log_path)\n",
    "MT_dat_name = './data/MT_data_clean_June28.csv'\n",
    "FP_type = 'Circular_2048'\n",
    "task_list = ['T51', 'T106','T107','T227', 'T108'] # 5HT-1a/1b/2a/2b/2c\n",
    "#add_features = ['MW', 'logP', 'BertzCT', 'TPSA']\n",
    "\n",
    "n_features = 2048\n",
    "layer_sizes = [512, 64]\n",
    "bypass_layer_sizes=[128]\n",
    "bypass_dropouts = [.5]\n",
    "dropout = 0.5\n",
    "lr = 0.0005"
   ]
  },
  {
   "cell_type": "markdown",
   "metadata": {},
   "source": [
    "## model training"
   ]
  },
  {
   "cell_type": "code",
   "execution_count": 3,
   "metadata": {
    "ExecuteTime": {
     "end_time": "2019-08-14T09:44:53.298078Z",
     "start_time": "2019-08-14T09:44:53.276560Z"
    },
    "collapsed": true
   },
   "outputs": [],
   "source": [
    "from keras.layers import Dense, Input\n",
    "from keras.layers.core import Dropout\n",
    "from keras.models import Model\n",
    "from keras.optimizers import Adam\n",
    "from keras.callbacks import ModelCheckpoint\n",
    "\n",
    "from model_training_utils_v2 import prepare_dataset\n",
    "\n",
    "def RobustMT_model_training(MT_dat_name, FP_type, task_list, log_path, epoch_num = 10,\n",
    "                            n_features, layer_sizes, bypass_layer_sizes, bypass_dropouts, dropout, lr,\n",
    "                            N_test = 500.0, add_features = None, n_epoch = 40):\n",
    "    \n",
    "    dataset_file = '%s/raw_data.csv' % (log_path)\n",
    "    if len(task_list) > 1:\n",
    "        model_flag = 'MT'\n",
    "    else:\n",
    "        model_flag = 'ST'\n",
    "    dataset, df = prepare_dataset(MT_dat_name, task_list, dataset_file, FP_type, \n",
    "                              smiles_field = 'canonical_smiles', \n",
    "                              add_features = add_features,\n",
    "                              id_field = 'chembl_id', model_flag = model_flag)\n",
    "\n",
    "    # calculate the ratio of missing values in the multitask setting\n",
    "    weights = dataset.w\n",
    "    true_cnt = sum(sum(weights))\n",
    "    missing_ratio = 1 - (true_cnt / (weights.shape[0] * weights.shape[1]))\n",
    "    print('Missing ratio of the dataset is %.2f' % missing_ratio)\n",
    "    print('Number of valid samples is %d' % int(true_cnt))\n",
    "\n",
    "    # split dataset\n",
    "    frac_train = 1 - N_test / dataset.X.shape[0]\n",
    "    splitter = dc.splits.RandomSplitter(dataset_file)\n",
    "    train_dataset, test_dataset = splitter.train_test_split(dataset, frac_train = frac_train)\n",
    "\n",
    "    metric = dc.metrics.Metric(\n",
    "        dc.metrics.r2_score, np.mean, mode = 'regression')\n",
    "\n",
    "    # model training \n",
    "    n_tasks = len(task_list)\n",
    "    model = dc.models.RobustMultitaskRegressor(n_tasks = n_tasks, n_features = n_features, layer_sizes = layers_sizes,\n",
    "                                               bypass_layer_sizes=bypass_layer_sizes, bypass_dropouts = bypass_dropouts,\n",
    "                                               dropout = dropout, learning_rate = lr)\n",
    "    model.save_file = log_path + '/model'\n",
    "\n",
    "    train_evaluation = []\n",
    "    test_evaluation = []\n",
    "    for iteration in range(epoch_num):\n",
    "        model.fit(train_dataset, n_epoch = n_epoch, max_checkpoints_to_keep = 1, checkpoint_interval=20)\n",
    "        print('======== Iteration %d ======' % iteration)\n",
    "        print(\"Evaluating model\")\n",
    "        train_scores = model.evaluate(train_dataset, [metric], [], per_task_metrics=metric)\n",
    "        train_evaluation.append(train_scores[1][\"mean-r2_score\"])\n",
    "        print(\"Training R2 score: %f\" % train_scores[0][\"mean-r2_score\"])\n",
    "        test_scores = model.evaluate(test_dataset, [metric], [], per_task_metrics=metric)\n",
    "        test_evaluation.append(test_scores[1][\"mean-r2_score\"])\n",
    "        print(\"Test R2 score: %f\" % test_scores[0][\"mean-r2_score\"])\n",
    "        \n",
    "        # save evaluation scores (need test!)\n",
    "        train_df = pd.DataFrame(np.array(train_evaluation))\n",
    "        test_df = pd.DataFrame(np.array(test_evaluation))\n",
    "        train_df.to_csv(model.save_file + '_train_log.csv')\n",
    "        test_df.to_csv(model.save_file + '_test_log.csv')\n",
    "    return "
   ]
  },
  {
   "cell_type": "code",
   "execution_count": 4,
   "metadata": {
    "ExecuteTime": {
     "end_time": "2019-08-14T09:48:35.111540Z",
     "start_time": "2019-08-14T09:45:00.428990Z"
    },
    "scrolled": true
   },
   "outputs": [
    {
     "name": "stderr",
     "output_type": "stream",
     "text": [
      "/root/anaconda3/envs/deepchem/lib/python3.5/site-packages/IPython/core/interactiveshell.py:2961: DtypeWarning: Columns (767) have mixed types. Specify dtype option on import or set low_memory=False.\n",
      "  exec(code_obj, self.user_global_ns, self.user_ns)\n"
     ]
    },
    {
     "name": "stdout",
     "output_type": "stream",
     "text": [
      "Extracted dataset shape: (6451, 7)\n",
      "Loading raw samples now.\n",
      "shard_size: 8192\n",
      "About to start loading CSV from ./logs/Serotonin_Aug14/raw_data.csv\n",
      "Loading shard 1 of size 8192.\n",
      "Featurizing sample 0\n",
      "Featurizing sample 1000\n",
      "Featurizing sample 2000\n",
      "Featurizing sample 3000\n",
      "Featurizing sample 4000\n",
      "Featurizing sample 5000\n",
      "Featurizing sample 6000\n",
      "TIMING: featurizing shard 0 took 25.922 s\n",
      "TIMING: dataset construction took 26.403 s\n",
      "Loading dataset from disk.\n",
      "Missing ratio of the dataset is 0.69\n",
      "Number of valid samples is 10088\n",
      "Computing train/valid/test indices\n",
      "TIMING: dataset construction took 0.634 s\n",
      "Loading dataset from disk.\n",
      "TIMING: dataset construction took 0.258 s\n",
      "Loading dataset from disk.\n",
      "======== Iteration 0 ======\n",
      "Evaluating model\n",
      "computed_metrics: [0.759661163147638, 0.8487385832755133, 0.7927909892421446, 0.7862606713724265, 0.7956715188464687]\n",
      "Training R2 score: 0.796625\n",
      "computed_metrics: [0.5752939701171875, 0.6945875534170977, 0.6066652533645858, 0.37844448486926474, 0.6625924044094114]\n",
      "Test R2 score: 0.583517\n",
      "======== Iteration 1 ======\n",
      "Evaluating model\n",
      "computed_metrics: [0.8158505208724209, 0.8933779909691956, 0.861604485570545, 0.863322781629866, 0.8612575332340614]\n",
      "Training R2 score: 0.859083\n",
      "computed_metrics: [0.6115972878457685, 0.679947886147258, 0.6161329373560849, 0.34145438760506797, 0.6974210306560764]\n",
      "Test R2 score: 0.589311\n",
      "======== Iteration 2 ======\n",
      "Evaluating model\n",
      "computed_metrics: [0.8548260530951476, 0.9267161642164854, 0.8862006766204017, 0.9050664020898176, 0.9002187486642536]\n",
      "Training R2 score: 0.894606\n",
      "computed_metrics: [0.6032906919973067, 0.6598824576132678, 0.618635857697012, 0.3220733219525531, 0.7186496734891725]\n",
      "Test R2 score: 0.584506\n",
      "======== Iteration 3 ======\n",
      "Evaluating model\n",
      "computed_metrics: [0.864321517262086, 0.9397616613245016, 0.9095721444843354, 0.9238929926683908, 0.9167479937892477]\n",
      "Training R2 score: 0.910859\n",
      "computed_metrics: [0.6027677773255737, 0.6413089451338263, 0.5980630288323545, 0.32247924099147907, 0.7210531590609532]\n",
      "Test R2 score: 0.577134\n",
      "======== Iteration 4 ======\n",
      "Evaluating model\n",
      "computed_metrics: [0.8953533936281479, 0.9534278679065692, 0.9215748228809671, 0.9290959487772327, 0.9301747706191565]\n",
      "Training R2 score: 0.925925\n",
      "computed_metrics: [0.6155427222670634, 0.6820633227742317, 0.6073417748208587, 0.3246368070900857, 0.7268722175042581]\n",
      "Test R2 score: 0.591291\n",
      "======== Iteration 5 ======\n",
      "Evaluating model\n",
      "computed_metrics: [0.9029854417257765, 0.9604575943054542, 0.9331062337742813, 0.9284163299055174, 0.9388175501780647]\n",
      "Training R2 score: 0.932757\n",
      "computed_metrics: [0.6069236074254009, 0.714621862394654, 0.5836234677856831, 0.28948690011193723, 0.7211811441306561]\n",
      "Test R2 score: 0.583167\n",
      "======== Iteration 6 ======\n",
      "Evaluating model\n",
      "computed_metrics: [0.9171476271850806, 0.9653620693031328, 0.9429793121516797, 0.9437126330935732, 0.943749722922384]\n",
      "Training R2 score: 0.942590\n",
      "computed_metrics: [0.6105522209362191, 0.7095486611172115, 0.5890714681689975, 0.31531457007535124, 0.709942904059075]\n",
      "Test R2 score: 0.586886\n",
      "======== Iteration 7 ======\n",
      "Evaluating model\n",
      "computed_metrics: [0.926968619508657, 0.9638583261828477, 0.9480784696063547, 0.9463554566177619, 0.9519935893626453]\n",
      "Training R2 score: 0.947451\n",
      "computed_metrics: [0.6206203893849938, 0.7097037146131558, 0.5916103154555746, 0.2890225797452647, 0.7278600725600175]\n",
      "Test R2 score: 0.587763\n",
      "======== Iteration 8 ======\n",
      "Evaluating model\n",
      "computed_metrics: [0.9344494765668044, 0.9707340451387145, 0.95448494227031, 0.9407190704283092, 0.9540568289914396]\n",
      "Training R2 score: 0.950889\n",
      "computed_metrics: [0.6148857396669338, 0.7325904076146383, 0.5878479022455009, 0.2916763885710445, 0.7200587355168194]\n",
      "Test R2 score: 0.589412\n",
      "======== Iteration 9 ======\n",
      "Evaluating model\n",
      "computed_metrics: [0.9366193912320537, 0.9579353393749691, 0.9569519113034609, 0.9525346894456956, 0.9535840932986404]\n",
      "Training R2 score: 0.951525\n",
      "computed_metrics: [0.6153497824407556, 0.6753012257001534, 0.5834952261590962, 0.3384884190099773, 0.7063542992615486]\n",
      "Test R2 score: 0.583798\n"
     ]
    }
   ],
   "source": [
    "RobustMT_model_training(MT_dat_name, FP_type, task_list, log_path, epoch_num = 10, N_test = 500.0, add_features = None, n_epoch = 40)"
   ]
  },
  {
   "cell_type": "code",
   "execution_count": 3,
   "metadata": {
    "ExecuteTime": {
     "end_time": "2019-08-15T11:52:24.733906Z",
     "start_time": "2019-08-15T11:52:24.691242Z"
    }
   },
   "outputs": [],
   "source": [
    "# visualize the evaluation scores along the training process\n",
    "import seaborn as sns\n",
    "import pandas as pd\n",
    "from VISAR_model_utils_v2 import generate_performance_plot_RobustMT\n",
    "\n",
    "plot_df = generate_performance_plot_RobustMT(train_file = './logs/Serotonin_Aug14/model_train_log.csv',\n",
    "                                             test_file = './logs/Serotonin_Aug14/model_test_log.csv',\n",
    "                                             task_list = ['T51', 'T106','T107','T227', 'T108'])"
   ]
  },
  {
   "cell_type": "code",
   "execution_count": 9,
   "metadata": {
    "ExecuteTime": {
     "end_time": "2019-08-15T12:09:12.636243Z",
     "start_time": "2019-08-15T12:09:12.157538Z"
    }
   },
   "outputs": [
    {
     "data": {
      "image/png": "[encoded data removed]",
      "text/plain": [
       "<Figure size 493.125x216 with 2 Axes>"
      ]
     },
     "metadata": {
      "needs_background": "light"
     },
     "output_type": "display_data"
    }
   ],
   "source": [
    "import matplotlib.pyplot as plt\n",
    "g = sns.FacetGrid(plot_df, col = 'tt', hue = 'tasks')\n",
    "g = (g.map(plt.plot, 'step', 'R2', marker = '.')).add_legend()"
   ]
  },
  {
   "cell_type": "markdown",
   "metadata": {},
   "source": [
    "## process trained results for VISAR analysis"
   ]
  },
  {
   "cell_type": "code",
   "execution_count": 4,
   "metadata": {
    "ExecuteTime": {
     "end_time": "2019-08-14T09:57:33.953824Z",
     "start_time": "2019-08-14T09:57:33.944951Z"
    },
    "collapsed": true
   },
   "outputs": [],
   "source": [
    "from VISAR_model_utils_v2 import generate_RUNKEY_dataframe_RobustMT\n",
    "prev_model = './logs/Serotonin_Aug14/model-1200'\n",
    "RUNKEY = './logs/Serotonin_Aug14/'\n",
    "\n",
    "task_list = ['T51', 'T106','T107','T227', 'T108'] # 5HT-1a/1b/2a/2b/2c\n",
    "#add_features = ['MW','logP','BertzCT','TPSA']\n",
    "dataset_file = '%s/raw_data.csv' % (RUNKEY)\n",
    "MT_dat_name = './data/MT_data_clean_June28.csv'\n",
    "FP_type = 'Circular_2048'\n",
    "model_flag = 'MT'\n",
    "\n",
    "n_features = 2048\n",
    "layer_sizes = [512, 64]\n",
    "bypass_layer_sizes=[128]\n",
    "bypass_dropouts = [.5]\n",
    "dropout = 0.5\n",
    "learning_rate = 0.001\n",
    "n_layer = 2\n",
    "n_bypass = 2\n",
    "add_features = None\n",
    "\n",
    "output_prefix = RUNKEY + '/RobustMT_serotonin_output_'"
   ]
  },
  {
   "cell_type": "code",
   "execution_count": 5,
   "metadata": {
    "ExecuteTime": {
     "end_time": "2019-08-14T10:01:40.593780Z",
     "start_time": "2019-08-14T09:57:36.604008Z"
    }
   },
   "outputs": [
    {
     "name": "stdout",
     "output_type": "stream",
     "text": [
      "------------- Loading dataset --------------------\n"
     ]
    },
    {
     "name": "stderr",
     "output_type": "stream",
     "text": [
      "/root/anaconda3/envs/deepchem/lib/python3.5/site-packages/IPython/core/interactiveshell.py:2961: DtypeWarning: Columns (767) have mixed types. Specify dtype option on import or set low_memory=False.\n",
      "  exec(code_obj, self.user_global_ns, self.user_ns)\n"
     ]
    },
    {
     "name": "stdout",
     "output_type": "stream",
     "text": [
      "Extracted dataset shape: (6451, 7)\n",
      "Loading raw samples now.\n",
      "shard_size: 8192\n",
      "About to start loading CSV from ./logs/Serotonin_Aug14//raw_data.csv\n",
      "Loading shard 1 of size 8192.\n",
      "Featurizing sample 0\n",
      "Featurizing sample 1000\n",
      "Featurizing sample 2000\n",
      "Featurizing sample 3000\n",
      "Featurizing sample 4000\n",
      "Featurizing sample 5000\n",
      "Featurizing sample 6000\n",
      "TIMING: featurizing shard 0 took 24.339 s\n",
      "TIMING: dataset construction took 24.805 s\n",
      "Loading dataset from disk.\n",
      "------------- Loading previous trained models ------------------\n",
      "INFO:tensorflow:Restoring parameters from ./logs/Serotonin_Aug14/model-1200\n",
      "------------- Prepare information for chemicals ------------------\n",
      "INFO:tensorflow:Restoring parameters from ./logs/Serotonin_Aug14/model-1200\n",
      "WARNING:tensorflow:From /root/anaconda3/envs/deepchem/lib/python3.5/site-packages/keras/backend/tensorflow_backend.py:1108: calling reduce_mean (from tensorflow.python.ops.math_ops) with keep_dims is deprecated and will be removed in a future version.\n",
      "Instructions for updating:\n",
      "keep_dims is deprecated, use keepdims instead\n",
      "------------- Prepare information for minibatches ------------------\n",
      "------------- Prepare information for tasks ------------------\n",
      "INFO:tensorflow:Restoring parameters from ./logs/Serotonin_Aug14/model-1200\n",
      "INFO:tensorflow:Restoring parameters from ./logs/Serotonin_Aug14/model-1200\n",
      "INFO:tensorflow:Restoring parameters from ./logs/Serotonin_Aug14/model-1200\n",
      "INFO:tensorflow:Restoring parameters from ./logs/Serotonin_Aug14/model-1200\n",
      "INFO:tensorflow:Restoring parameters from ./logs/Serotonin_Aug14/model-1200\n",
      "INFO:tensorflow:Restoring parameters from ./logs/Serotonin_Aug14/model-1200\n",
      "------- Generate color labels with default K of 5 --------\n",
      "-------------- Saving datasets ----------------\n"
     ]
    }
   ],
   "source": [
    "generate_RUNKEY_dataframe_RobustMT(prev_model, output_prefix, task_list, dataset_file, FP_type, add_features, \n",
    "                                   n_features, layer_sizes, bypass_layer_sizes, model_flag, n_bypass, n_layer = n_layer)"
   ]
  },
  {
   "cell_type": "markdown",
   "metadata": {},
   "source": [
    "Next:\n",
    "- copy output files (including output_compound_df, output_batch_df, output_task_df) to VISAR_webapp data directory, and clear the static directory if neccessary;\n",
    "- start the app in prompt window by 'bokeh serve --show VISAR_webapp'"
   ]
  }
 ],
 "metadata": {
  "kernelspec": {
   "display_name": "Python 3",
   "language": "python",
   "name": "python3"
  },
  "language_info": {
   "codemirror_mode": {
    "name": "ipython",
    "version": 3
   },
   "file_extension": ".py",
   "mimetype": "text/x-python",
   "name": "python",
   "nbconvert_exporter": "python",
   "pygments_lexer": "ipython3",
   "version": "3.6.1"
  },
  "toc": {
   "base_numbering": 1,
   "nav_menu": {},
   "number_sections": true,
   "sideBar": true,
   "skip_h1_title": false,
   "title_cell": "Table of Contents",
   "title_sidebar": "Contents",
   "toc_cell": false,
   "toc_position": {},
   "toc_section_display": true,
   "toc_window_display": false
  },
  "varInspector": {
   "cols": {
    "lenName": 16,
    "lenType": 16,
    "lenVar": 40
   },
   "kernels_config": {
    "python": {
     "delete_cmd_postfix": "",
     "delete_cmd_prefix": "del ",
     "library": "var_list.py",
     "varRefreshCmd": "print(var_dic_list())"
    },
    "r": {
     "delete_cmd_postfix": ") ",
     "delete_cmd_prefix": "rm(",
     "library": "var_list.r",
     "varRefreshCmd": "cat(var_dic_list()) "
    }
   },
   "types_to_exclude": [
    "module",
    "function",
    "builtin_function_or_method",
    "instance",
    "_Feature"
   ],
   "window_display": false
  }
 },
 "nbformat": 4,
 "nbformat_minor": 2
}
