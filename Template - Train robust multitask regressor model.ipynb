{
 "cells": [
  {
   "cell_type": "code",
   "execution_count": null,
   "metadata": {
    "ExecuteTime": {
     "end_time": "2019-08-14T09:55:31.093508Z",
     "start_time": "2019-08-14T09:55:21.560380Z"
    },
    "collapsed": true
   },
   "outputs": [],
   "source": [
    "import os\n",
    "import deepchem as dc\n",
    "import numpy as np\n",
    "import pandas as pd\n",
    "import tensorflow as tf\n",
    "os.environ['CUDA_VISIBLE_DEVICES']='0'"
   ]
  },
  {
   "cell_type": "markdown",
   "metadata": {},
   "source": [
    "## model setup"
   ]
  },
  {
   "cell_type": "code",
   "execution_count": null,
   "metadata": {
    "ExecuteTime": {
     "end_time": "2019-08-14T09:44:07.392110Z",
     "start_time": "2019-08-14T09:44:07.364166Z"
    },
    "collapsed": true
   },
   "outputs": [],
   "source": [
    "from visar.model_training_utils import prepare_dataset\n",
    "import os\n",
    "import pandas as pd\n",
    "\n",
    "RUN_KEY = 'Serotonin_Aug14'\n",
    "\n",
    "log_path = './logs/' + RUN_KEY\n",
    "os.system('mkdir %s' % log_path)\n",
    "dataset_file = '%s/raw_data.csv' % (log_path)\n",
    "MT_dat_name = './data/MT_data_clean_June28.csv'\n",
    "FP_type = 'Circular_2048'\n",
    "task_list = ['T51', 'T106','T107','T227', 'T108'] # 5HT-1a/1b/2a/2b/2c\n",
    "#add_features = ['MW', 'logP', 'BertzCT', 'TPSA']\n",
    "\n",
    "n_features = 2048\n",
    "layer_sizes = [512, 64]\n",
    "bypass_layer_sizes=[128]\n",
    "bypass_dropouts = [.5]\n",
    "dropout = 0.5\n",
    "lr = 0.0005"
   ]
  },
  {
   "cell_type": "markdown",
   "metadata": {},
   "source": [
    "## model training"
   ]
  },
  {
   "cell_type": "code",
   "execution_count": null,
   "metadata": {
    "ExecuteTime": {
     "end_time": "2019-08-14T09:44:53.298078Z",
     "start_time": "2019-08-14T09:44:53.276560Z"
    },
    "collapsed": true
   },
   "outputs": [],
   "source": [
    "from keras.layers import Dense, Input\n",
    "from keras.layers.core import Dropout\n",
    "from keras.models import Model\n",
    "from keras.optimizers import Adam\n",
    "from keras.callbacks import ModelCheckpoint\n",
    "\n",
    "from visar.model_training_utils import prepare_dataset, RobustMT_model_training"
   ]
  },
  {
   "cell_type": "code",
   "execution_count": null,
   "metadata": {
    "ExecuteTime": {
     "end_time": "2019-08-14T09:48:35.111540Z",
     "start_time": "2019-08-14T09:45:00.428990Z"
    },
    "collapsed": true,
    "scrolled": true
   },
   "outputs": [],
   "source": [
    "RobustMT_model_training(MT_dat_name, FP_type, task_list, log_path, \n",
    "                        n_features, layer_sizes, bypass_layer_sizes, bypass_dropouts, dropout, lr,\n",
    "                        epoch_num = 10, N_test = 5000,\n",
    "                        add_features = None, n_epoch = 40)"
   ]
  },
  {
   "cell_type": "code",
   "execution_count": null,
   "metadata": {
    "ExecuteTime": {
     "end_time": "2019-10-19T07:57:56.810216Z",
     "start_time": "2019-10-19T07:57:55.662533Z"
    },
    "collapsed": true
   },
   "outputs": [],
   "source": [
    "# visualize the evaluation scores along the training process\n",
    "import seaborn as sns\n",
    "import pandas as pd\n",
    "from visar.VISAR_model_utils import generate_performance_plot_RobustMT"
   ]
  },
  {
   "cell_type": "code",
   "execution_count": null,
   "metadata": {
    "ExecuteTime": {
     "end_time": "2019-10-19T08:02:11.618011Z",
     "start_time": "2019-10-19T08:02:11.577989Z"
    },
    "collapsed": true
   },
   "outputs": [],
   "source": [
    "plot_df = generate_performance_plot_RobustMT(train_file = './logs/ICD_Oct7_tot/model_train_log.csv',\n",
    "                                             test_file = './logs/ICD_Oct7_tot/model_test_log.csv')"
   ]
  },
  {
   "cell_type": "code",
   "execution_count": null,
   "metadata": {
    "ExecuteTime": {
     "end_time": "2019-10-19T08:02:23.792464Z",
     "start_time": "2019-10-19T08:02:20.719573Z"
    },
    "collapsed": true,
    "scrolled": true
   },
   "outputs": [],
   "source": [
    "import matplotlib.pyplot as plt\n",
    "g = sns.FacetGrid(plot_df, col = 'tt', hue = 'tasks')\n",
    "g = (g.map(plt.plot, 'step', 'R2', marker = '.')).add_legend()"
   ]
  },
  {
   "cell_type": "markdown",
   "metadata": {},
   "source": [
    "## process trained results for VISAR analysis"
   ]
  },
  {
   "cell_type": "code",
   "execution_count": null,
   "metadata": {
    "ExecuteTime": {
     "end_time": "2019-08-14T09:57:33.953824Z",
     "start_time": "2019-08-14T09:57:33.944951Z"
    },
    "collapsed": true
   },
   "outputs": [],
   "source": [
    "from VISAR_model_utils_v2 import generate_RUNKEY_dataframe_RobustMT\n",
    "prev_model = './logs/Serotonin_Aug14/model-1200'\n",
    "RUNKEY = './logs/Serotonin_Aug14/'\n",
    "\n",
    "task_list = ['T51', 'T106','T107','T227', 'T108'] # 5HT-1a/1b/2a/2b/2c\n",
    "#add_features = ['MW','logP','BertzCT','TPSA']\n",
    "dataset_file = '%s/raw_data.csv' % (RUNKEY)\n",
    "MT_dat_name = './data/MT_data_clean_June28.csv'\n",
    "FP_type = 'Circular_2048'\n",
    "model_flag = 'MT'\n",
    "\n",
    "n_features = 2048\n",
    "layer_sizes = [512, 64]\n",
    "bypass_layer_sizes=[128]\n",
    "bypass_dropouts = [.5]\n",
    "dropout = 0.5\n",
    "learning_rate = 0.001\n",
    "n_layer = 2\n",
    "n_bypass = 2\n",
    "add_features = None\n",
    "\n",
    "output_prefix = RUNKEY + '/RobustMT_serotonin_output_'"
   ]
  },
  {
   "cell_type": "code",
   "execution_count": null,
   "metadata": {
    "ExecuteTime": {
     "end_time": "2019-08-14T10:01:40.593780Z",
     "start_time": "2019-08-14T09:57:36.604008Z"
    },
    "collapsed": true,
    "scrolled": true
   },
   "outputs": [],
   "source": [
    "generate_RUNKEY_dataframe_RobustMT_new(prev_model, output_prefix, task_list, dataset_file, \n",
    "                                       FP_type, add_features, n_features, layer_sizes, \n",
    "                                       bypass_layer_sizes, model_flag, n_bypass, n_layer = n_layer)"
   ]
  },
  {
   "cell_type": "markdown",
   "metadata": {},
   "source": [
    "## processing custom files\n",
    "- generate target profile predictions for compounds in custom dataset\n",
    "- mapping custom dataset to trained chemical space"
   ]
  },
  {
   "cell_type": "code",
   "execution_count": null,
   "metadata": {
    "collapsed": true
   },
   "outputs": [],
   "source": [
    "custom_file = './data/custom_file_npcp.txt'\n",
    "custom_id_field = 'CID'\n",
    "custom_smiles_field = 'canonical_smiles'\n",
    "custom_task_field = 'mw'\n",
    "sep_custom_file = '\\t'\n",
    "\n",
    "K = 8  # number of clusters specified for clustering of the chemicals\n",
    "valid_cutoff = 0.6 # if specified, filter for only tasks with good performance (with test R2 higher than the cutoff)"
   ]
  },
  {
   "cell_type": "code",
   "execution_count": null,
   "metadata": {
    "collapsed": true
   },
   "outputs": [],
   "source": [
    "generate_RUNKEY_dataframe_RobustMT_new(prev_model, output_prefix, task_list, dataset_file, \n",
    "                                       FP_type, add_features, n_features, layer_sizes, \n",
    "                                       bypass_layer_sizes, model_flag, n_bypass,\n",
    "                                       custom_file = custom_file, custom_id_field = custom_id_field, \n",
    "                                       custom_task_field = custom_task_field,\n",
    "                                       custom_smiles_field = custom_smiles_field, \n",
    "                                       sep_custom_file = sep_custom_file, \n",
    "                                       K = K, valid_cutoff = valid_cutoff)"
   ]
  },
  {
   "cell_type": "markdown",
   "metadata": {},
   "source": [
    "Next:\n",
    "- copy output files (including output_compound_df, output_batch_df, output_task_df) to VISAR_webapp data directory, and clear the static directory if neccessary;\n",
    "- start the app in prompt window by 'bokeh serve --show VISAR_webapp'"
   ]
  }
 ],
 "metadata": {
  "kernelspec": {
   "display_name": "deepchem_visar",
   "language": "python",
   "name": "deepchem_visar"
  },
  "language_info": {
   "codemirror_mode": {
    "name": "ipython",
    "version": 3
   },
   "file_extension": ".py",
   "mimetype": "text/x-python",
   "name": "python",
   "nbconvert_exporter": "python",
   "pygments_lexer": "ipython3",
   "version": "3.5.6"
  },
  "toc": {
   "base_numbering": 1,
   "nav_menu": {},
   "number_sections": true,
   "sideBar": true,
   "skip_h1_title": false,
   "title_cell": "Table of Contents",
   "title_sidebar": "Contents",
   "toc_cell": false,
   "toc_position": {},
   "toc_section_display": true,
   "toc_window_display": false
  },
  "varInspector": {
   "cols": {
    "lenName": 16,
    "lenType": 16,
    "lenVar": 40
   },
   "kernels_config": {
    "python": {
     "delete_cmd_postfix": "",
     "delete_cmd_prefix": "del ",
     "library": "var_list.py",
     "varRefreshCmd": "print(var_dic_list())"
    },
    "r": {
     "delete_cmd_postfix": ") ",
     "delete_cmd_prefix": "rm(",
     "library": "var_list.r",
     "varRefreshCmd": "cat(var_dic_list()) "
    }
   },
   "types_to_exclude": [
    "module",
    "function",
    "builtin_function_or_method",
    "instance",
    "_Feature"
   ],
   "window_display": false
  }
 },
 "nbformat": 4,
 "nbformat_minor": 2
}
